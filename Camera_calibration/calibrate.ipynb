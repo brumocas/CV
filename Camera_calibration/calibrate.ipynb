{
 "cells": [
  {
   "cell_type": "markdown",
   "metadata": {},
   "source": [
    "## Camera Calibration\n",
    "\n",
    "Relevant information can be found in the OpenCV [OpenCV](https://docs.opencv.org/4.x/dc/dbb/tutorial_py_calibration.html) documentation"
   ]
  },
  {
   "cell_type": "code",
   "execution_count": 6,
   "metadata": {},
   "outputs": [],
   "source": [
    "# First create a python virtual environment\n",
    "\n",
    "# Install this packages\n",
    "#!pip install numpy\n",
    "#!pip install opencv-python"
   ]
  },
  {
   "cell_type": "markdown",
   "metadata": {},
   "source": [
    "Obtain objpoints from the images"
   ]
  },
  {
   "cell_type": "code",
   "execution_count": 7,
   "metadata": {},
   "outputs": [],
   "source": [
    "import numpy as np\n",
    "import cv2 as cv\n",
    "import glob\n",
    "import os\n",
    "\n",
    "# termination criteria for refining corner points\n",
    "criteria = (cv.TERM_CRITERIA_EPS + cv.TERM_CRITERIA_MAX_ITER, 30, 0.001)\n",
    "\n",
    "# prepare object points, like (0,0,0), (1,0,0), (2,0,0), ....,(6,5,0)\n",
    "objp = np.zeros((6*7, 3), np.float32)\n",
    "objp[:, :2] = np.mgrid[0:7, 0:6].T.reshape(-1, 2)\n",
    "\n",
    "# Arrays to store object points and image points from all the images.\n",
    "objpoints = []  # 3d points in real world space\n",
    "imgpoints = []  # 2d points in image plane.\n",
    "\n",
    "# Get all image file paths from the folder\n",
    "images = glob.glob('Calibration_Images/Images/*.jpg')\n",
    "\n",
    "# Create directory for saving results if not exists\n",
    "output_dir = \"Calibration_Images/Corner_Results\"\n",
    "if not os.path.exists(output_dir):\n",
    "    os.makedirs(output_dir)\n",
    "\n",
    "for idx, fname in enumerate(images):\n",
    "    img = cv.imread(fname)\n",
    "    gray = cv.cvtColor(img, cv.COLOR_BGR2GRAY)\n",
    "\n",
    "    # Find the chessboard corners\n",
    "    ret, corners = cv.findChessboardCorners(gray, (7, 6), None)\n",
    "\n",
    "    # If corners are found\n",
    "    if ret:\n",
    "        objpoints.append(objp)\n",
    "\n",
    "        # Refine corner locations\n",
    "        corners2 = cv.cornerSubPix(gray, corners, (11, 11), (-1, -1), criteria)\n",
    "        imgpoints.append(corners2)\n",
    "\n",
    "        # Draw and display the corners\n",
    "        cv.drawChessboardCorners(img, (7, 6), corners2, ret)\n",
    "\n",
    "        # Save the result with corners drawn\n",
    "        result_filename = os.path.join(output_dir, f\"corner_result_{idx+1}.jpg\")\n",
    "        cv.imwrite(result_filename, img)\n",
    "\n",
    "        # Show the image (optional, might not work properly in non-GUI environments)\n",
    "        cv.imshow('img', img)\n",
    "        cv.waitKey(500)\n",
    "\n",
    "cv.destroyAllWindows()"
   ]
  },
  {
   "cell_type": "markdown",
   "metadata": {},
   "source": [
    "Obtain calibration camera results"
   ]
  },
  {
   "cell_type": "code",
   "execution_count": 9,
   "metadata": {},
   "outputs": [
    {
     "name": "stdout",
     "output_type": "stream",
     "text": [
      "Camera matrix:\n",
      " [[938.23561468   0.         621.98907581]\n",
      " [  0.         926.58473294 355.6305686 ]\n",
      " [  0.           0.           1.        ]]\n",
      "Distortion coefficients:\n",
      " [[ 2.13378982e-02 -3.46887436e-01 -1.37717511e-04 -1.02818189e-02\n",
      "   6.29159483e-01]]\n",
      "Rotation Vectors:\n",
      " (array([[ 0.7863924 ],\n",
      "       [ 0.03652729],\n",
      "       [-0.00468984]]), array([[-0.68968145],\n",
      "       [-0.29945532],\n",
      "       [-0.64320047]]), array([[-0.83931219],\n",
      "       [-0.43620673],\n",
      "       [-0.41598355]]), array([[-0.8022483 ],\n",
      "       [ 0.01227122],\n",
      "       [ 0.6309271 ]]))\n",
      "Translation Vectors:\n",
      " (array([[-3.45560008],\n",
      "       [-1.43728664],\n",
      "       [17.64759332]]), array([[-8.56145243],\n",
      "       [ 0.37347525],\n",
      "       [18.52851413]]), array([[-6.56573282],\n",
      "       [-0.12017605],\n",
      "       [17.13930775]]), array([[-0.24420479],\n",
      "       [-3.1445083 ],\n",
      "       [19.46807773]]))\n"
     ]
    }
   ],
   "source": [
    "# Calibrate the camera\n",
    "ret, camera_matrix, distortion_coeffs, rvecs, tvecs = cv.calibrateCamera(objpoints, imgpoints, gray.shape[::-1], None, None)\n",
    "\n",
    "# Print calibration results\n",
    "print(\"Camera matrix:\\n\", camera_matrix)\n",
    "print(\"Distortion coefficients:\\n\", distortion_coeffs)\n",
    "print(\"Rotation Vectors:\\n\", rvecs)\n",
    "print(\"Translation Vectors:\\n\", tvecs)"
   ]
  },
  {
   "cell_type": "markdown",
   "metadata": {},
   "source": [
    "Undistort an image"
   ]
  },
  {
   "cell_type": "code",
   "execution_count": 13,
   "metadata": {},
   "outputs": [
    {
     "data": {
      "text/plain": [
       "True"
      ]
     },
     "execution_count": 13,
     "metadata": {},
     "output_type": "execute_result"
    }
   ],
   "source": [
    "# Undistort one of the test images\n",
    "img = cv.imread(images[5])\n",
    "h,  w = img.shape[:2]\n",
    "new_camera_matrix, roi = cv.getOptimalNewCameraMatrix(camera_matrix, distortion_coeffs, (w,h), 1, (w,h))\n",
    "\n",
    "# Undistort\n",
    "undistorted_img = cv.undistort(img, camera_matrix, distortion_coeffs, None, new_camera_matrix)\n",
    "\n",
    "# Crop the image if necessary\n",
    "x, y, w, h = roi\n",
    "undistorted_img = undistorted_img[y:y + h, x:x + w]\n",
    "\n",
    "# Save and display the undistorted image\n",
    "cv.imwrite('Calibration_Images/undistorted_result.jpg', undistorted_img)"
   ]
  }
 ],
 "metadata": {
  "kernelspec": {
   "display_name": "Python 3",
   "language": "python",
   "name": "python3"
  },
  "language_info": {
   "codemirror_mode": {
    "name": "ipython",
    "version": 3
   },
   "file_extension": ".py",
   "mimetype": "text/x-python",
   "name": "python",
   "nbconvert_exporter": "python",
   "pygments_lexer": "ipython3",
   "version": "3.11.9"
  }
 },
 "nbformat": 4,
 "nbformat_minor": 2
}
